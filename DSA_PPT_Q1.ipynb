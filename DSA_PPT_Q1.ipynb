{
  "metadata": {
    "language_info": {
      "codemirror_mode": {
        "name": "python",
        "version": 3
      },
      "file_extension": ".py",
      "mimetype": "text/x-python",
      "name": "python",
      "nbconvert_exporter": "python",
      "pygments_lexer": "ipython3",
      "version": "3.8"
    },
    "kernelspec": {
      "name": "python",
      "display_name": "Python (Pyodide)",
      "language": "python"
    }
  },
  "nbformat_minor": 4,
  "nbformat": 4,
  "cells": [
    {
      "cell_type": "markdown",
      "source": "Q1. Move Zeroes\nGiven an integer array nums, move all 0's to the end of it while maintaining the relative order of the non-zero elements.\n\nNote that you must do this in-place without making a copy of the array.\n\nExample 1:\nInput: nums = [0,1,0,3,12]\nOutput: [1,3,12,0,0]\n\nExample 2:\nInput: nums = [0]\nOutput: [0]\n\nConstraints:\na. 1 <= nums.length <= 10^4\nb. -2^31 <= nums[i] <= 2^31 - 1",
      "metadata": {}
    },
    {
      "cell_type": "code",
      "source": "def moveZeroes(nums):\n    nonZeroPtr = 0\n    currentPtr = 0\n\n    while currentPtr < len(nums):\n        if nums[currentPtr] != 0:\n            nums[nonZeroPtr], nums[currentPtr] = nums[currentPtr], nums[nonZeroPtr]\n            nonZeroPtr += 1\n\n        currentPtr += 1\n\n    while nonZeroPtr < len(nums):\n        nums[nonZeroPtr] = 0\n        nonZeroPtr += 1\n\n    return nums",
      "metadata": {
        "trusted": true
      },
      "execution_count": 1,
      "outputs": []
    },
    {
      "cell_type": "code",
      "source": "moveZeroes([1,2,3,0,32,432,432,0,0,0,12,4,2,4,2])",
      "metadata": {
        "trusted": true
      },
      "execution_count": 2,
      "outputs": [
        {
          "execution_count": 2,
          "output_type": "execute_result",
          "data": {
            "text/plain": "[1, 2, 3, 32, 432, 432, 12, 4, 2, 4, 2, 0, 0, 0, 0]"
          },
          "metadata": {}
        }
      ]
    },
    {
      "cell_type": "code",
      "source": "",
      "metadata": {},
      "execution_count": null,
      "outputs": []
    }
  ]
}