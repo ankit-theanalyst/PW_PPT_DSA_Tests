{
  "metadata": {
    "language_info": {
      "codemirror_mode": {
        "name": "python",
        "version": 3
      },
      "file_extension": ".py",
      "mimetype": "text/x-python",
      "name": "python",
      "nbconvert_exporter": "python",
      "pygments_lexer": "ipython3",
      "version": "3.8"
    },
    "kernelspec": {
      "name": "python",
      "display_name": "Python (Pyodide)",
      "language": "python"
    }
  },
  "nbformat_minor": 4,
  "nbformat": 4,
  "cells": [
    {
      "cell_type": "markdown",
      "source": "17. Write a function that takes a list of numbers as input and returns a new list containing only the even numbers from the input list. Use list comprehension to solve this problem.\n\nExample:\n\nInput: [1, 2, 3, 4, 5, 6, 7, 8, 9, 10]\n\nOutput: [2, 4, 6, 8, 10]",
      "metadata": {}
    },
    {
      "cell_type": "code",
      "source": "def get_even_numbers(input_list):\n    return [num for num in input_list if num % 2 == 0]\n",
      "metadata": {
        "trusted": true
      },
      "execution_count": 1,
      "outputs": []
    },
    {
      "cell_type": "code",
      "source": "numbers = [1, 2, 3, 4, 5, 6, 7, 8, 9, 10]\neven_numbers = get_even_numbers(numbers)\nprint(even_numbers)\n",
      "metadata": {
        "trusted": true
      },
      "execution_count": 2,
      "outputs": [
        {
          "name": "stdout",
          "text": "[2, 4, 6, 8, 10]\n",
          "output_type": "stream"
        }
      ]
    },
    {
      "cell_type": "markdown",
      "source": " Implement a decorator function called ‘timer’ that measures the execution time of a function. The ‘timer’ decorator should print the time taken by the decorated function to execute. Use the ‘time’ module in Python to calculate the execution time.\n\nExample:\n\nimport time\n\n@timer\ndef my_function():\n    # Function code goes here\n    time.sleep(2)\n\nmy_function()\n\nOutput:\n\"Execution time: 2.00123 seconds\"",
      "metadata": {}
    },
    {
      "cell_type": "code",
      "source": "import time\n\ndef timer(func):\n    def wrapper(*args, **kwargs):\n        start_time = time.time()\n        result = func(*args, **kwargs)\n        end_time = time.time()\n        execution_time = end_time - start_time\n        print(f\"Execution time: {execution_time:.5f} seconds\")\n        return result\n    return wrapper\n",
      "metadata": {
        "trusted": true
      },
      "execution_count": 4,
      "outputs": []
    },
    {
      "cell_type": "code",
      "source": "@timer\ndef my_function():\n    time.sleep(2)\n    # Function code goes here\n\nmy_function()\n",
      "metadata": {
        "trusted": true
      },
      "execution_count": 5,
      "outputs": [
        {
          "name": "stdout",
          "text": "Execution time: 2.00100 seconds\n",
          "output_type": "stream"
        }
      ]
    },
    {
      "cell_type": "markdown",
      "source": "Write a function called ‘calculate_mean’ that takes a list of numbers as input and returns the mean (average) of the numbers. The function should calculate the mean using the sum of the numbers divided by the total count.\n\nExample:\n\ndef calculate_mean(numbers):\n    total = sum(numbers)\n    count = len(numbers)\n    mean = total / count\n    return mean\n\ndata = [10, 15, 20, 25, 30]\nmean_value = calculate_mean(data)\nprint(\"Mean:\", mean_value)\n\nOutput:\nMean: 20.0",
      "metadata": {}
    },
    {
      "cell_type": "code",
      "source": "def calculate_mean(numbers):\n    total = sum(numbers)\n    count = len(numbers)\n    mean = total / count\n    return mean\n",
      "metadata": {
        "trusted": true
      },
      "execution_count": 6,
      "outputs": []
    },
    {
      "cell_type": "code",
      "source": "data = [10, 15, 20, 25, 30]\nmean_value = calculate_mean(data)\nprint(\"Mean:\", mean_value)\n",
      "metadata": {
        "trusted": true
      },
      "execution_count": 7,
      "outputs": [
        {
          "name": "stdout",
          "text": "Mean: 20.0\n",
          "output_type": "stream"
        }
      ]
    },
    {
      "cell_type": "markdown",
      "source": "Write a function called ‘perform_hypothesis_test’ that takes two lists of numbers as input, representing two samples. The function should perform a two-sample t-test and return the p-value. Use the ‘scipy.stats’ module in Python to calculate the t-test and p-value.\n\nExample:\n\nfrom scipy import stats\n\ndef perform_hypothesis_test(sample1, sample2):\n    t_statistic, p_value = stats.ttest_ind(sample1, sample2)\n    return p_value\n\nsample1 = [5, 10, 15, 20, 25]\nsample2 = [10, 20, 30, 40, 50]\np_value = perform_hypothesis_test(sample1, sample2)\nprint(\"P-value:\", p_value)\n\nOutput:\nP-value: 0.1064706396450037",
      "metadata": {}
    },
    {
      "cell_type": "code",
      "source": "from scipy import stats\n\ndef perform_hypothesis_test(sample1, sample2):\n    t_statistic, p_value = stats.ttest_ind(sample1, sample2)\n    return p_value\n",
      "metadata": {
        "trusted": true
      },
      "execution_count": 8,
      "outputs": []
    },
    {
      "cell_type": "code",
      "source": "sample1 = [5, 10, 15, 20, 25]\nsample2 = [10, 20, 30, 40, 50]\np_value = perform_hypothesis_test(sample1, sample2)\nprint(\"P-value:\", p_value)\n",
      "metadata": {
        "trusted": true
      },
      "execution_count": 9,
      "outputs": [
        {
          "name": "stdout",
          "text": "P-value: 0.09434977284243756\n",
          "output_type": "stream"
        }
      ]
    }
  ]
}